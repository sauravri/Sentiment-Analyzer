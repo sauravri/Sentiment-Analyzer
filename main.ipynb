{
 "cells": [
  {
   "cell_type": "markdown",
   "metadata": {},
   "source": [
    "# Sentiment Analysis using NLTK\n",
    "\n",
    "Objective of this project is **to extract some sections (which are mentioned below) from SEC / EDGAR financial reports** and **perform text analysis to compute variables**.\n",
    "  \n",
    "The project is divided and worked under two tasks:\n",
    "\n",
    " (1) **Data Extraction** and (2) **Sentiment Analysis**\n",
    "\n",
    ".\n",
    "\n",
    ".\n",
    "\n",
    ".\n",
    "\n",
    "\n",
    "(1) **Sections to extract data from :**\n",
    "\n",
    "1 : Management's Discussion and Analysis of Financial Condition and Results of Operations\n",
    "\n",
    "2 : Quantitative and Qualitative Disclosures about Market Risk\n",
    "\n",
    "3 : Risk Factors\n",
    "\n",
    "(2) **Variables to be computed from extracted data:**\n",
    "\n",
    "1 : All polarity scores (6)\n",
    "\n",
    "2 : Word count, Sentence count, Average Sentence Length\n",
    "\n",
    "3 : Fog index\n",
    "\n",
    "Therefore, we need 11 x 3 = **33 variables**."
   ]
  },
  {
   "cell_type": "markdown",
   "metadata": {},
   "source": [
    "## Import required Python Libraries :\n",
    "We need the following the libraries and functions for our data parsing, extraction and text analysis(NLTK)"
   ]
  },
  {
   "cell_type": "code",
   "execution_count": 1,
   "metadata": {},
   "outputs": [],
   "source": [
    "import requests\n",
    "from bs4 import BeautifulSoup\n",
    "import pandas as pd\n",
    "import string\n",
    "import xlwt"
   ]
  },
  {
   "cell_type": "code",
   "execution_count": 2,
   "metadata": {},
   "outputs": [],
   "source": [
    "from nltk.tokenize.regexp import WhitespaceTokenizer\n",
    "from nltk.tokenize import regexp_tokenize\n",
    "from nltk import word_tokenize, sent_tokenize\n",
    "from nltk.corpus import stopwords\n",
    "from nltk.sentiment.vader import SentimentIntensityAnalyzer"
   ]
  },
  {
   "cell_type": "markdown",
   "metadata": {},
   "source": [
    "## Read the excel file, complete the links column :\n",
    "Using pandas function of reading a excel file stored in the project directory.\n",
    "The excel file consists of various entries such as CIK Number, Form, SECFNAME, etc. The SECFNAME column is a column of incomplete html links of our financial reports. We need to add every cell in the column with **https://www.sec.gov/Archives/** to form get access."
   ]
  },
  {
   "cell_type": "code",
   "execution_count": 3,
   "metadata": {},
   "outputs": [
    {
     "data": {
      "text/html": [
       "<div>\n",
       "<style scoped>\n",
       "    .dataframe tbody tr th:only-of-type {\n",
       "        vertical-align: middle;\n",
       "    }\n",
       "\n",
       "    .dataframe tbody tr th {\n",
       "        vertical-align: top;\n",
       "    }\n",
       "\n",
       "    .dataframe thead th {\n",
       "        text-align: right;\n",
       "    }\n",
       "</style>\n",
       "<table border=\"1\" class=\"dataframe\">\n",
       "  <thead>\n",
       "    <tr style=\"text-align: right;\">\n",
       "      <th></th>\n",
       "      <th>CIK</th>\n",
       "      <th>CONAME</th>\n",
       "      <th>FYRMO</th>\n",
       "      <th>FDATE</th>\n",
       "      <th>FORM</th>\n",
       "      <th>SECFNAME</th>\n",
       "    </tr>\n",
       "  </thead>\n",
       "  <tbody>\n",
       "    <tr>\n",
       "      <th>0</th>\n",
       "      <td>3662</td>\n",
       "      <td>SUNBEAM CORP/FL/</td>\n",
       "      <td>199803</td>\n",
       "      <td>1998-03-06</td>\n",
       "      <td>10-K405</td>\n",
       "      <td>https://www.sec.gov/Archives/edgar/data/3662/0...</td>\n",
       "    </tr>\n",
       "    <tr>\n",
       "      <th>1</th>\n",
       "      <td>3662</td>\n",
       "      <td>SUNBEAM CORP/FL/</td>\n",
       "      <td>199805</td>\n",
       "      <td>1998-05-15</td>\n",
       "      <td>10-Q</td>\n",
       "      <td>https://www.sec.gov/Archives/edgar/data/3662/0...</td>\n",
       "    </tr>\n",
       "    <tr>\n",
       "      <th>2</th>\n",
       "      <td>3662</td>\n",
       "      <td>SUNBEAM CORP/FL/</td>\n",
       "      <td>199808</td>\n",
       "      <td>1998-08-13</td>\n",
       "      <td>NT 10-Q</td>\n",
       "      <td>https://www.sec.gov/Archives/edgar/data/3662/0...</td>\n",
       "    </tr>\n",
       "    <tr>\n",
       "      <th>3</th>\n",
       "      <td>3662</td>\n",
       "      <td>SUNBEAM CORP/FL/</td>\n",
       "      <td>199811</td>\n",
       "      <td>1998-11-12</td>\n",
       "      <td>10-K/A</td>\n",
       "      <td>https://www.sec.gov/Archives/edgar/data/3662/0...</td>\n",
       "    </tr>\n",
       "    <tr>\n",
       "      <th>4</th>\n",
       "      <td>3662</td>\n",
       "      <td>SUNBEAM CORP/FL/</td>\n",
       "      <td>199811</td>\n",
       "      <td>1998-11-16</td>\n",
       "      <td>NT 10-Q</td>\n",
       "      <td>https://www.sec.gov/Archives/edgar/data/3662/0...</td>\n",
       "    </tr>\n",
       "  </tbody>\n",
       "</table>\n",
       "</div>"
      ],
      "text/plain": [
       "    CIK            CONAME   FYRMO      FDATE     FORM  \\\n",
       "0  3662  SUNBEAM CORP/FL/  199803 1998-03-06  10-K405   \n",
       "1  3662  SUNBEAM CORP/FL/  199805 1998-05-15     10-Q   \n",
       "2  3662  SUNBEAM CORP/FL/  199808 1998-08-13  NT 10-Q   \n",
       "3  3662  SUNBEAM CORP/FL/  199811 1998-11-12   10-K/A   \n",
       "4  3662  SUNBEAM CORP/FL/  199811 1998-11-16  NT 10-Q   \n",
       "\n",
       "                                            SECFNAME  \n",
       "0  https://www.sec.gov/Archives/edgar/data/3662/0...  \n",
       "1  https://www.sec.gov/Archives/edgar/data/3662/0...  \n",
       "2  https://www.sec.gov/Archives/edgar/data/3662/0...  \n",
       "3  https://www.sec.gov/Archives/edgar/data/3662/0...  \n",
       "4  https://www.sec.gov/Archives/edgar/data/3662/0...  "
      ]
     },
     "execution_count": 3,
     "metadata": {},
     "output_type": "execute_result"
    }
   ],
   "source": [
    "data = pd.read_excel('C:\\Saurav\\Work\\projects\\Sentiment Analysis\\cik_list.xlsx')                      \n",
    "\n",
    "data['SECFNAME'] = 'https://www.sec.gov/Archives/' + data['SECFNAME'].astype(str)\n",
    "data.head()"
   ]
  },
  {
   "cell_type": "markdown",
   "metadata": {},
   "source": [
    "## Grab the content by iterating over each link in the SECFNAME column :\n",
    "The following code is the main iteration loop which will select each link, parsing the html content and extracting the data under the three given sections. I have used **BeautifulSoup** for parsing the html content in my links.\n",
    "\n",
    "I will be using **RegexpTokenizer** from **nltk.tokenizer** package for grabbing the data under the three different sections. If any particular report does not include any the sections, it will be simply stored empty."
   ]
  },
  {
   "cell_type": "code",
   "execution_count": 4,
   "metadata": {},
   "outputs": [
    {
     "data": {
      "text/html": [
       "<div>\n",
       "<style scoped>\n",
       "    .dataframe tbody tr th:only-of-type {\n",
       "        vertical-align: middle;\n",
       "    }\n",
       "\n",
       "    .dataframe tbody tr th {\n",
       "        vertical-align: top;\n",
       "    }\n",
       "\n",
       "    .dataframe thead th {\n",
       "        text-align: right;\n",
       "    }\n",
       "</style>\n",
       "<table border=\"1\" class=\"dataframe\">\n",
       "  <thead>\n",
       "    <tr style=\"text-align: right;\">\n",
       "      <th></th>\n",
       "      <th>CIK</th>\n",
       "      <th>CONAME</th>\n",
       "      <th>FYRMO</th>\n",
       "      <th>FDATE</th>\n",
       "      <th>FORM</th>\n",
       "      <th>SECFNAME</th>\n",
       "      <th>mda_negative_score</th>\n",
       "      <th>mda_neutral_score</th>\n",
       "      <th>mda_positive_score</th>\n",
       "      <th>mda_compound_score</th>\n",
       "      <th>...</th>\n",
       "      <th>qqdmr_sent_count</th>\n",
       "      <th>qqdmr_fog_index</th>\n",
       "      <th>rf_negative_score</th>\n",
       "      <th>rf_neutral_score</th>\n",
       "      <th>rf_compound_score</th>\n",
       "      <th>rf_subjectivity_score</th>\n",
       "      <th>rf_average_sentence_length</th>\n",
       "      <th>rf_word_count</th>\n",
       "      <th>rf_sent_count</th>\n",
       "      <th>rf_fog_index</th>\n",
       "    </tr>\n",
       "  </thead>\n",
       "  <tbody>\n",
       "    <tr>\n",
       "      <th>0</th>\n",
       "      <td>3662</td>\n",
       "      <td>SUNBEAM CORP/FL/</td>\n",
       "      <td>199803</td>\n",
       "      <td>1998-03-06</td>\n",
       "      <td>10-K405</td>\n",
       "      <td>https://www.sec.gov/Archives/edgar/data/3662/0...</td>\n",
       "      <td>NaN</td>\n",
       "      <td>NaN</td>\n",
       "      <td>NaN</td>\n",
       "      <td>NaN</td>\n",
       "      <td>...</td>\n",
       "      <td>NaN</td>\n",
       "      <td>NaN</td>\n",
       "      <td>NaN</td>\n",
       "      <td>NaN</td>\n",
       "      <td>NaN</td>\n",
       "      <td>NaN</td>\n",
       "      <td>NaN</td>\n",
       "      <td>NaN</td>\n",
       "      <td>NaN</td>\n",
       "      <td>NaN</td>\n",
       "    </tr>\n",
       "    <tr>\n",
       "      <th>1</th>\n",
       "      <td>3662</td>\n",
       "      <td>SUNBEAM CORP/FL/</td>\n",
       "      <td>199805</td>\n",
       "      <td>1998-05-15</td>\n",
       "      <td>10-Q</td>\n",
       "      <td>https://www.sec.gov/Archives/edgar/data/3662/0...</td>\n",
       "      <td>NaN</td>\n",
       "      <td>NaN</td>\n",
       "      <td>NaN</td>\n",
       "      <td>NaN</td>\n",
       "      <td>...</td>\n",
       "      <td>NaN</td>\n",
       "      <td>NaN</td>\n",
       "      <td>NaN</td>\n",
       "      <td>NaN</td>\n",
       "      <td>NaN</td>\n",
       "      <td>NaN</td>\n",
       "      <td>NaN</td>\n",
       "      <td>NaN</td>\n",
       "      <td>NaN</td>\n",
       "      <td>NaN</td>\n",
       "    </tr>\n",
       "    <tr>\n",
       "      <th>2</th>\n",
       "      <td>3662</td>\n",
       "      <td>SUNBEAM CORP/FL/</td>\n",
       "      <td>199808</td>\n",
       "      <td>1998-08-13</td>\n",
       "      <td>NT 10-Q</td>\n",
       "      <td>https://www.sec.gov/Archives/edgar/data/3662/0...</td>\n",
       "      <td>NaN</td>\n",
       "      <td>NaN</td>\n",
       "      <td>NaN</td>\n",
       "      <td>NaN</td>\n",
       "      <td>...</td>\n",
       "      <td>NaN</td>\n",
       "      <td>NaN</td>\n",
       "      <td>NaN</td>\n",
       "      <td>NaN</td>\n",
       "      <td>NaN</td>\n",
       "      <td>NaN</td>\n",
       "      <td>NaN</td>\n",
       "      <td>NaN</td>\n",
       "      <td>NaN</td>\n",
       "      <td>NaN</td>\n",
       "    </tr>\n",
       "    <tr>\n",
       "      <th>3</th>\n",
       "      <td>3662</td>\n",
       "      <td>SUNBEAM CORP/FL/</td>\n",
       "      <td>199811</td>\n",
       "      <td>1998-11-12</td>\n",
       "      <td>10-K/A</td>\n",
       "      <td>https://www.sec.gov/Archives/edgar/data/3662/0...</td>\n",
       "      <td>NaN</td>\n",
       "      <td>NaN</td>\n",
       "      <td>NaN</td>\n",
       "      <td>NaN</td>\n",
       "      <td>...</td>\n",
       "      <td>NaN</td>\n",
       "      <td>NaN</td>\n",
       "      <td>NaN</td>\n",
       "      <td>NaN</td>\n",
       "      <td>NaN</td>\n",
       "      <td>NaN</td>\n",
       "      <td>NaN</td>\n",
       "      <td>NaN</td>\n",
       "      <td>NaN</td>\n",
       "      <td>NaN</td>\n",
       "    </tr>\n",
       "    <tr>\n",
       "      <th>4</th>\n",
       "      <td>3662</td>\n",
       "      <td>SUNBEAM CORP/FL/</td>\n",
       "      <td>199811</td>\n",
       "      <td>1998-11-16</td>\n",
       "      <td>NT 10-Q</td>\n",
       "      <td>https://www.sec.gov/Archives/edgar/data/3662/0...</td>\n",
       "      <td>NaN</td>\n",
       "      <td>NaN</td>\n",
       "      <td>NaN</td>\n",
       "      <td>NaN</td>\n",
       "      <td>...</td>\n",
       "      <td>NaN</td>\n",
       "      <td>NaN</td>\n",
       "      <td>NaN</td>\n",
       "      <td>NaN</td>\n",
       "      <td>NaN</td>\n",
       "      <td>NaN</td>\n",
       "      <td>NaN</td>\n",
       "      <td>NaN</td>\n",
       "      <td>NaN</td>\n",
       "      <td>NaN</td>\n",
       "    </tr>\n",
       "  </tbody>\n",
       "</table>\n",
       "<p>5 rows × 32 columns</p>\n",
       "</div>"
      ],
      "text/plain": [
       "    CIK            CONAME   FYRMO      FDATE     FORM  \\\n",
       "0  3662  SUNBEAM CORP/FL/  199803 1998-03-06  10-K405   \n",
       "1  3662  SUNBEAM CORP/FL/  199805 1998-05-15     10-Q   \n",
       "2  3662  SUNBEAM CORP/FL/  199808 1998-08-13  NT 10-Q   \n",
       "3  3662  SUNBEAM CORP/FL/  199811 1998-11-12   10-K/A   \n",
       "4  3662  SUNBEAM CORP/FL/  199811 1998-11-16  NT 10-Q   \n",
       "\n",
       "                                            SECFNAME mda_negative_score  \\\n",
       "0  https://www.sec.gov/Archives/edgar/data/3662/0...                NaN   \n",
       "1  https://www.sec.gov/Archives/edgar/data/3662/0...                NaN   \n",
       "2  https://www.sec.gov/Archives/edgar/data/3662/0...                NaN   \n",
       "3  https://www.sec.gov/Archives/edgar/data/3662/0...                NaN   \n",
       "4  https://www.sec.gov/Archives/edgar/data/3662/0...                NaN   \n",
       "\n",
       "  mda_neutral_score mda_positive_score mda_compound_score  ...  \\\n",
       "0               NaN                NaN                NaN  ...   \n",
       "1               NaN                NaN                NaN  ...   \n",
       "2               NaN                NaN                NaN  ...   \n",
       "3               NaN                NaN                NaN  ...   \n",
       "4               NaN                NaN                NaN  ...   \n",
       "\n",
       "  qqdmr_sent_count qqdmr_fog_index rf_negative_score rf_neutral_score  \\\n",
       "0              NaN             NaN               NaN              NaN   \n",
       "1              NaN             NaN               NaN              NaN   \n",
       "2              NaN             NaN               NaN              NaN   \n",
       "3              NaN             NaN               NaN              NaN   \n",
       "4              NaN             NaN               NaN              NaN   \n",
       "\n",
       "  rf_compound_score rf_subjectivity_score rf_average_sentence_length  \\\n",
       "0               NaN                   NaN                        NaN   \n",
       "1               NaN                   NaN                        NaN   \n",
       "2               NaN                   NaN                        NaN   \n",
       "3               NaN                   NaN                        NaN   \n",
       "4               NaN                   NaN                        NaN   \n",
       "\n",
       "  rf_word_count rf_sent_count rf_fog_index  \n",
       "0           NaN           NaN          NaN  \n",
       "1           NaN           NaN          NaN  \n",
       "2           NaN           NaN          NaN  \n",
       "3           NaN           NaN          NaN  \n",
       "4           NaN           NaN          NaN  \n",
       "\n",
       "[5 rows x 32 columns]"
      ]
     },
     "execution_count": 4,
     "metadata": {},
     "output_type": "execute_result"
    }
   ],
   "source": [
    "result_df = pd.read_excel('C:\\Saurav\\Work\\projects\\Sentiment Analysis\\Output Data Structure.xlsx')\n",
    "result_df = result_df.append(data)\n",
    "result_df.head()"
   ]
  },
  {
   "cell_type": "code",
   "execution_count": 16,
   "metadata": {},
   "outputs": [
    {
     "data": {
      "text/plain": [
       "(152, 32)"
      ]
     },
     "execution_count": 16,
     "metadata": {},
     "output_type": "execute_result"
    }
   ],
   "source": [
    "result_df.shape"
   ]
  },
  {
   "cell_type": "code",
   "execution_count": 6,
   "metadata": {},
   "outputs": [
    {
     "data": {
      "text/plain": [
       "Index(['CIK', 'CONAME', 'FYRMO', 'FDATE', 'FORM', 'SECFNAME',\n",
       "       'mda_negative_score', 'mda_neutral_score', 'mda_positive_score',\n",
       "       'mda_compound_score', 'mda_subjectivity_score',\n",
       "       'mda_average_sentence_length', 'mda_word_count', 'mda_sent_count',\n",
       "       'mda_fog_index', 'qqdmr_negative_score', 'qqdmr_neutral_score',\n",
       "       'qqdmr_positive_score', 'qqdmr_compound_score',\n",
       "       'qqdmr_subjectivity_score', 'qqdmr_average_sentence_length',\n",
       "       'qqdmr_word_count', 'qqdmr_sent_count', 'qqdmr_fog_index',\n",
       "       'rf_negative_score', 'rf_neutral_score', 'rf_compound_score',\n",
       "       'rf_subjectivity_score', 'rf_average_sentence_length', 'rf_word_count',\n",
       "       'rf_sent_count', 'rf_fog_index'],\n",
       "      dtype='object')"
      ]
     },
     "execution_count": 6,
     "metadata": {},
     "output_type": "execute_result"
    }
   ],
   "source": [
    "result_df.columns"
   ]
  },
  {
   "cell_type": "code",
   "execution_count": 17,
   "metadata": {},
   "outputs": [
    {
     "data": {
      "text/plain": [
       "3662"
      ]
     },
     "execution_count": 17,
     "metadata": {},
     "output_type": "execute_result"
    }
   ],
   "source": [
    "result_df.iloc[0,0]"
   ]
  },
  {
   "cell_type": "code",
   "execution_count": 18,
   "metadata": {},
   "outputs": [],
   "source": [
    "row = 0\n",
    "for link in result_df['SECFNAME']:\n",
    "    \n",
    "    response = requests.get(link)\n",
    "    soup = BeautifulSoup(response.content, 'lxml')\n",
    "    link_data = soup.text\n",
    "\n",
    "    link_results = []\n",
    "\n",
    "    sec1 = regexp_tokenize(link_data,\"(MANAGEMENT'S DISCUSSION AND ANALYSIS OF FINANCIAL CONDITION AND RESULTS\\n        OF OPERATION)(.*?)( ITEM | PART | Item | Part )\")\n",
    "    #print(\"\\033[1m\" + \"Management's Discussion and Analysis Section:\" + \"\\033[0m\")\n",
    "\n",
    "    if sec1:\n",
    "        sec1_result = text_analyzer(sec1[0][1])\n",
    "        result_df.iloc[row,6:14] = sec1_result\n",
    "\n",
    "    sec2 = regexp_tokenize(link_data,\"(QUANTITATIVE AND\\nQUALITATIVE DISCLOSURES ABOUT MARKET RISK)(.*?)( ITEM | PART | Item | Part )\")\n",
    "    #print(\"\\033[1m\" + \"Quantitative and Qualitative Disclosures about Market Risk Section:\" + \"\\033[0m\")\n",
    "\n",
    "    if sec2:\n",
    "        sec2_result = text_analyzer(sec2[0][1])\n",
    "        result_df.iloc[row,15:23] = sec1_result\n",
    "\n",
    "    sec3 = regexp_tokenize(link_data,\"(RISK FACTORS)(.*?)( ITEM | PART | Item | Part )\")\n",
    "    #print(\"\\033[1m\" + \"Risk Factors Section:\" + \"\\033[0m\")\n",
    "\n",
    "    if sec3:\n",
    "        sec3_result = text_analyzer(sec3[0][1])\n",
    "        result_df.iloc[row,24:32] = sec1_result\n",
    "\n",
    "    row+=1"
   ]
  },
  {
   "cell_type": "code",
   "execution_count": 20,
   "metadata": {},
   "outputs": [
    {
     "data": {
      "text/plain": [
       "CIK                                                                           3662\n",
       "CONAME                                                            SUNBEAM CORP/FL/\n",
       "FYRMO                                                                       199905\n",
       "FDATE                                                          1999-05-17 00:00:00\n",
       "FORM                                                                       NT 10-Q\n",
       "SECFNAME                         https://www.sec.gov/Archives/edgar/data/3662/0...\n",
       "mda_negative_score                                                             NaN\n",
       "mda_neutral_score                                                              NaN\n",
       "mda_positive_score                                                             NaN\n",
       "mda_compound_score                                                             NaN\n",
       "mda_subjectivity_score                                                         NaN\n",
       "mda_average_sentence_length                                                    NaN\n",
       "mda_word_count                                                                 NaN\n",
       "mda_sent_count                                                                 NaN\n",
       "mda_fog_index                                                                  NaN\n",
       "qqdmr_negative_score                                                           NaN\n",
       "qqdmr_neutral_score                                                            NaN\n",
       "qqdmr_positive_score                                                           NaN\n",
       "qqdmr_compound_score                                                           NaN\n",
       "qqdmr_subjectivity_score                                                       NaN\n",
       "qqdmr_average_sentence_length                                                  NaN\n",
       "qqdmr_word_count                                                               NaN\n",
       "qqdmr_sent_count                                                               NaN\n",
       "qqdmr_fog_index                                                                NaN\n",
       "rf_negative_score                                                              NaN\n",
       "rf_neutral_score                                                               NaN\n",
       "rf_compound_score                                                              NaN\n",
       "rf_subjectivity_score                                                          NaN\n",
       "rf_average_sentence_length                                                     NaN\n",
       "rf_word_count                                                                  NaN\n",
       "rf_sent_count                                                                  NaN\n",
       "rf_fog_index                                                                   NaN\n",
       "Name: 10, dtype: object"
      ]
     },
     "execution_count": 20,
     "metadata": {},
     "output_type": "execute_result"
    }
   ],
   "source": [
    "result_df.iloc[10]"
   ]
  },
  {
   "cell_type": "markdown",
   "metadata": {},
   "source": [
    "## Total Analysis Function :"
   ]
  },
  {
   "cell_type": "code",
   "execution_count": 9,
   "metadata": {},
   "outputs": [],
   "source": [
    "def text_analyzer(text):\n",
    "    filtered_data = Cleaning(text)\n",
    "    results = []\n",
    "    \n",
    "    if filtered_data: \n",
    "        sentiment_score = SentimentAnalyzer(filtered_data)\n",
    "    else: sentiment_score = {}\n",
    "    \n",
    "    results = [value for value in sentiment_score.values()]\n",
    "    \n",
    "    tokens = WhitespaceTokenizer().tokenize(text)\n",
    "    word_count = len(tokens)\n",
    "    sent_count = len(sent_tokenize(text))\n",
    "    avg_sent_length = round(float(word_count)/sent_count, ndigits=0)\n",
    "    \n",
    "    results.extend((avg_sent_length, word_count, sent_count))\n",
    "    \n",
    "    return results # returing a list"
   ]
  },
  {
   "cell_type": "markdown",
   "metadata": {},
   "source": [
    "### Sentiment Score function :"
   ]
  },
  {
   "cell_type": "code",
   "execution_count": 10,
   "metadata": {},
   "outputs": [],
   "source": [
    "def SentimentAnalyzer(content):\n",
    "    scores = []\n",
    "    sid = SentimentIntensityAnalyzer()\n",
    "    \n",
    "    if len(content)!= 0 :\n",
    "        \n",
    "        scores = sid.polarity_scores(\" \".join(content))\n",
    "        subjectivity_score = ( scores['neg'] + scores['pos'] )/ ((len(content)) + 0.000001)\n",
    "        \n",
    "        scores.update(sub = subjectivity_score)\n",
    "        \n",
    "    else:\n",
    "        return scores\n",
    "#         print(\"No such section\")\n",
    "    return scores"
   ]
  },
  {
   "cell_type": "markdown",
   "metadata": {},
   "source": [
    "### Function of Analysis of Readibility :"
   ]
  },
  {
   "cell_type": "code",
   "execution_count": 11,
   "metadata": {},
   "outputs": [],
   "source": [
    "def Readibility(text):\n",
    "    \n",
    "    return word_count"
   ]
  },
  {
   "cell_type": "markdown",
   "metadata": {},
   "source": [
    "### Text Cleaning function (Filtering the stopwords and punctuations) :"
   ]
  },
  {
   "cell_type": "code",
   "execution_count": 12,
   "metadata": {},
   "outputs": [],
   "source": [
    "def Cleaning(content):                                                                 # Cleaning text function\n",
    "    \n",
    "    stop_words = sorted(stopwords.words('english'))\n",
    "\n",
    "    # removing stopwords\n",
    "    word_tokens = [w for w in word_tokenize(content,\"english\") if not w in stop_words]\n",
    "    \n",
    "    # removing punctuations from word_tokes list\n",
    "    filtered_sentence = list(filter(lambda x : x not in string.punctuation, word_tokens))\n",
    "    \n",
    "    return filtered_sentence"
   ]
  }
 ],
 "metadata": {
  "kernelspec": {
   "display_name": "Python 3",
   "language": "python",
   "name": "python3"
  },
  "language_info": {
   "codemirror_mode": {
    "name": "ipython",
    "version": 3
   },
   "file_extension": ".py",
   "mimetype": "text/x-python",
   "name": "python",
   "nbconvert_exporter": "python",
   "pygments_lexer": "ipython3",
   "version": "3.7.6"
  }
 },
 "nbformat": 4,
 "nbformat_minor": 4
}
